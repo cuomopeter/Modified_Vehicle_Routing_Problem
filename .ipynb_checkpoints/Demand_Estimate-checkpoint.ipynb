{
 "cells": [
  {
   "cell_type": "markdown",
   "metadata": {},
   "source": [
    "# Forecast creation\n",
    "\n",
    "1. Forecasted demand was done on a per week basis using pandas datetime transformation from hidstorical demand\n",
    "2. A total of 3 months or 1 fiscal quarter of total demand was forecasted to capture seasonality\n",
    "3. Demand was calculated by weight (per pound)\n",
    "4. Service fees were included to capture best and worst case cost scenarios\n"
   ]
  },
  {
   "cell_type": "code",
   "execution_count": null,
   "metadata": {},
   "outputs": [],
   "source": [
    "import pandas as pd\n",
    "import numpy as np\n",
    "\n",
    "Demand_W = pd.read_excel('', sheet_name='Sheet2')\n",
    "Demand_W.head(5)"
   ]
  },
  {
   "cell_type": "code",
   "execution_count": null,
   "metadata": {},
   "outputs": [],
   "source": [
    "Demand_W.Branch.value_counts()"
   ]
  },
  {
   "cell_type": "code",
   "execution_count": null,
   "metadata": {},
   "outputs": [],
   "source": [
    "Demand_W.PO_Date = pd.to_datetime(Demand_W.PO_Date, infer_datetime_format = True)\n",
    "Demand_W.Ship_Deadline = pd.to_datetime(Demand_W['Ship Not Later Than:'], infer_datetime_format = True)"
   ]
  },
  {
   "cell_type": "code",
   "execution_count": null,
   "metadata": {},
   "outputs": [],
   "source": [
    "ServiceFee = pd.read_excel('demand_sheet_W_Service_Charge.xlsx', sheet_name='Serv_Fee')\n",
    "\n",
    "count = 0\n",
    "New_Service_Dict = {}\n",
    "\n",
    "for i in ServiceFee['HD SKU']:\n",
    "    New_Service_Dict[i] = ServiceFee.New_Service_Fee.iloc[count]\n",
    "    count = count + 1\n",
    "    \n",
    "\n",
    "count2 = 0 \n",
    "Chris_Service_Fee = {}\n",
    "\n",
    "for i in ServiceFee['HD SKU']:\n",
    "    Chris_Service_Fee[i] = ServiceFee.Christopher_Fee.iloc[count2]\n",
    "    count2 = count2 + 1\n",
    "    "
   ]
  },
  {
   "cell_type": "code",
   "execution_count": null,
   "metadata": {},
   "outputs": [],
   "source": [
    "Demand_W.columns"
   ]
  },
  {
   "cell_type": "code",
   "execution_count": null,
   "metadata": {},
   "outputs": [],
   "source": [
    "Demand_W['Christopher_Service_Fee'] = Demand_W.SKU.map(Chris_Service_Fee)\n",
    "Demand_W['New_Service_Fee'] = Demand_W.SKU.map(New_Service_Dict)"
   ]
  },
  {
   "cell_type": "code",
   "execution_count": null,
   "metadata": {},
   "outputs": [],
   "source": [
    "Demand_W.head(5)"
   ]
  },
  {
   "cell_type": "code",
   "execution_count": null,
   "metadata": {},
   "outputs": [],
   "source": [
    "Weight_Table = pd.read_excel('Weight_Table.xlsx', sheet_name='Weight')"
   ]
  },
  {
   "cell_type": "code",
   "execution_count": null,
   "metadata": {},
   "outputs": [],
   "source": [
    "Demand_W.SKU.value_counts().count()"
   ]
  },
  {
   "cell_type": "code",
   "execution_count": null,
   "metadata": {},
   "outputs": [],
   "source": [
    "SKU = pd.read_excel('SKU_Convert.xlsx', sheet_name='S4S')\n",
    "SKU.head(5)"
   ]
  },
  {
   "cell_type": "code",
   "execution_count": null,
   "metadata": {},
   "outputs": [],
   "source": [
    "weight = {}\n",
    "count = 0\n",
    "for i in SKU.SKU:\n",
    "    weight[i] = SKU.AVG_WEIGHT_TAG_LB.iloc[count]\n",
    "    count = count +1"
   ]
  },
  {
   "cell_type": "code",
   "execution_count": null,
   "metadata": {},
   "outputs": [],
   "source": [
    "Demand_W['Single_Weight'] = Demand_W.SKU.map(weight)"
   ]
  },
  {
   "cell_type": "code",
   "execution_count": null,
   "metadata": {},
   "outputs": [],
   "source": [
    "pieces = {}\n",
    "count = 0\n",
    "for i in SKU.SKU:\n",
    "    pieces[i] = SKU.PCS_X_BP.iloc[count]\n",
    "    count = count + 1"
   ]
  },
  {
   "cell_type": "code",
   "execution_count": null,
   "metadata": {},
   "outputs": [],
   "source": [
    "Demand_W['Pieces_Per_Tag'] = Demand_W.SKU.map(pieces)\n"
   ]
  },
  {
   "cell_type": "code",
   "execution_count": null,
   "metadata": {},
   "outputs": [],
   "source": [
    "Demand_W['TAGS'] = Demand_W.Qty/Demand_W.Pieces_Per_Tag"
   ]
  },
  {
   "cell_type": "code",
   "execution_count": null,
   "metadata": {},
   "outputs": [],
   "source": [
    "Demand_W['Total_Weight'] = Demand_W.Single_Weight*Demand_W.TAGS"
   ]
  },
  {
   "cell_type": "code",
   "execution_count": null,
   "metadata": {},
   "outputs": [],
   "source": [
    "Demand_W['Week'] = Demand_W.PO_Date.dt.week"
   ]
  },
  {
   "cell_type": "code",
   "execution_count": null,
   "metadata": {},
   "outputs": [],
   "source": [
    "Demand_W.columns"
   ]
  },
  {
   "cell_type": "code",
   "execution_count": null,
   "metadata": {},
   "outputs": [],
   "source": [
    "Demand_W['Christopher_Service_Fee_Total'] = Demand_W.Christopher_Service_Fee*Demand_W.Qty\n",
    "Demand_W['New_Service_Fee_Total'] = Demand_W.New_Service_Fee*Demand_W.Qty"
   ]
  },
  {
   "cell_type": "code",
   "execution_count": null,
   "metadata": {},
   "outputs": [],
   "source": [
    "Demand_W[['SKU','Qty','New_Service_Fee_Total']].head(10)"
   ]
  },
  {
   "cell_type": "code",
   "execution_count": null,
   "metadata": {},
   "outputs": [],
   "source": [
    "Grouped_Demand = Demand_W.groupby(['Week', 'SKU', 'Store #'])['Qty','TAGS', 'Total_Weight','New_Service_Fee_Total', 'Christopher_Service_Fee_Total'].sum()"
   ]
  },
  {
   "cell_type": "code",
   "execution_count": null,
   "metadata": {},
   "outputs": [],
   "source": [
    "Grouped_Demand.to_csv('')"
   ]
  },
  {
   "cell_type": "code",
   "execution_count": null,
   "metadata": {},
   "outputs": [],
   "source": [
    "Grouped_Demand_Total = Demand_W.groupby(['Week','Store #'])['Qty','TAGS', 'Total_Weight','New_Service_Fee_Total', 'Christopher_Service_Fee_Total'].sum()"
   ]
  },
  {
   "cell_type": "code",
   "execution_count": null,
   "metadata": {},
   "outputs": [],
   "source": [
    "Grouped_Demand_Total.head(5)"
   ]
  },
  {
   "cell_type": "code",
   "execution_count": null,
   "metadata": {},
   "outputs": [],
   "source": [
    "Grouped_Demand_Total.to_csv('')"
   ]
  },
  {
   "cell_type": "code",
   "execution_count": null,
   "metadata": {},
   "outputs": [],
   "source": []
  }
 ],
 "metadata": {
  "kernelspec": {
   "display_name": "Python 3",
   "language": "python",
   "name": "python3"
  },
  "language_info": {
   "codemirror_mode": {
    "name": "ipython",
    "version": 3
   },
   "file_extension": ".py",
   "mimetype": "text/x-python",
   "name": "python",
   "nbconvert_exporter": "python",
   "pygments_lexer": "ipython3",
   "version": "3.7.4"
  }
 },
 "nbformat": 4,
 "nbformat_minor": 4
}
